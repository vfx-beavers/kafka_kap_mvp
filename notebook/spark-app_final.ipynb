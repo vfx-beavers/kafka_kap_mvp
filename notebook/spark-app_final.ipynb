{
 "cells": [
  {
   "cell_type": "code",
   "execution_count": 3,
   "id": "e540e18e-fd4b-439b-8efc-edfb82e1f018",
   "metadata": {},
   "outputs": [],
   "source": [
    "import os\n",
    "import logging\n",
    "\n",
    "from pyspark.sql import SparkSession\n",
    "from pyspark.sql import Window\n",
    "from pyspark.sql import functions as F\n",
    "from pyspark.sql.types import StructType, StructField, StringType, ArrayType, IntegerType, DateType\n",
    "from confluent_kafka.serialization import StringDeserializer\n",
    "from confluent_kafka.schema_registry import SchemaRegistryClient as con\n",
    "from confluent_kafka.serialization import StringSerializer\n",
    "from schema_registry.client import SchemaRegistryClient, schema\n",
    "from schema_registry.serializers import JsonMessageSerializer"
   ]
  },
  {
   "cell_type": "code",
   "execution_count": 4,
   "id": "3200e663-dfce-48b3-a506-35b343a770b7",
   "metadata": {},
   "outputs": [],
   "source": [
    "# Настройка логирования\n",
    "logging.getLogger().setLevel(logging.INFO)\n",
    "logger = logging.getLogger(\"main\")"
   ]
  },
  {
   "cell_type": "code",
   "execution_count": 5,
   "id": "9b85c8d0-1f02-4387-946e-d0b51b940b5a",
   "metadata": {},
   "outputs": [],
   "source": [
    "KAFKA_BOOTSTRAP_SERVERS = \"kafka111-mirror:9192\" # kafka111-mirror:9192 localhost:9095\n",
    "SR_URL = os.getenv(\"SCHEMA_REGISTRY_URL\", \"http://localhost:8081/\") # localhost:8081 schema-registry:8081\n",
    "HDFS_URI = \"http://hadoop-namenode:9870\" # \"http://hadoop-namenode:9870\"\n",
    "KAFKA_ORDERS_TOPIC = os.getenv(\"KAFKA_ORDERS_TOPIC\", \"orders\")"
   ]
  },
  {
   "cell_type": "code",
   "execution_count": 6,
   "id": "db826d75-5cc7-4111-9b32-8c2fc69ca3d9",
   "metadata": {},
   "outputs": [],
   "source": [
    "SR_client = SchemaRegistryClient(url=SR_URL) #сторонний клиент\n",
    "#schema_registry_client = SchemaRegistryClient({'url': SR_URL})\n",
    "json_deserializer = JsonMessageSerializer(SR_client)\n",
    "string_deserializer = StringDeserializer('utf_8')"
   ]
  },
  {
   "cell_type": "code",
   "execution_count": 7,
   "id": "115669d4-8503-4bf7-8bf4-f0f44ac6f521",
   "metadata": {},
   "outputs": [],
   "source": [
    "subject = f'{KAFKA_ORDERS_TOPIC}-value'\n",
    "confluent_SR_client = con({\"url\": SR_URL})\n",
    "latest = confluent_SR_client.get_latest_version(subject)\n",
    "schema_file = latest.schema.schema_str\n",
    "json_value_schema_str = schema.JsonSchema(schema_file)"
   ]
  },
  {
   "cell_type": "code",
   "execution_count": 8,
   "id": "98343ddb-d58b-421a-aa8a-8428c89c08a0",
   "metadata": {},
   "outputs": [],
   "source": [
    "# Спарк сессия\n",
    "spark = SparkSession.builder \\\n",
    "        .appName(\"SparkApp\") \\\n",
    "        .config(\"spark.executor.memory\", \"2g\") \\\n",
    "        .config(\"spark.executor.cores\", \"1\") \\\n",
    "        .config(\"spark.jars.packages\", \"org.apache.spark:spark-sql-kafka-0-10_2.12:3.4.1\") \\\n",
    "        .config(\"spark.hadoop.fs.defaultFS\", \"hdfs://hadoop-namenode:9000\") \\\n",
    "        .config(\"spark.hadoop.dfs.namenode.http-address\", \"hadoop-namenode:9870\") \\\n",
    "        .config(\"spark.hadoop.dfs.namenode.kerberos.principal\", \"dummy\") \\\n",
    "        .config(\"spark.hadoop.mapreduce.job.user.name\", \"root\") \\\n",
    "        .config(\"spark.hadoop.user.name\", \"root\") \\\n",
    "        .config(\"spark.driver.extraJavaOptions\", \"-Divy.home=/tmp/ivy\") \\\n",
    "        .config(\"spark.sql.catalogImplementation\", \"in-memory\") \\\n",
    "        .config(\"spark.hadoop.fs.hdfs.impl\", \"org.apache.hadoop.hdfs.DistributedFileSystem\") \\\n",
    "        .config(\"spark.hadoop.fs.file.impl\", \"org.apache.hadoop.fs.LocalFileSystem\") \\\n",
    "        .getOrCreate()\n",
    "logger.info(\"Spark session started.\")"
   ]
  },
  {
   "cell_type": "code",
   "execution_count": 9,
   "id": "7f997fa0-0441-4883-bcc0-d42057a257ec",
   "metadata": {},
   "outputs": [],
   "source": [
    "orders_path = \"hdfs://hadoop-namenode:9000/data/orders\""
   ]
  },
  {
   "cell_type": "code",
   "execution_count": 10,
   "id": "2fa9ce76-3a61-4b6c-93a8-787a1eae58a6",
   "metadata": {},
   "outputs": [],
   "source": [
    "# Вычитываем заказы\n",
    "df = spark.read.option(\"multiline\", \"false\").json(orders_path)"
   ]
  },
  {
   "cell_type": "code",
   "execution_count": 11,
   "id": "76040c8f-630e-45b1-acdf-671fcbe69056",
   "metadata": {},
   "outputs": [
    {
     "name": "stdout",
     "output_type": "stream",
     "text": [
      "root\n",
      " |-- customer_id: string (nullable = true)\n",
      " |-- email: string (nullable = true)\n",
      " |-- items: array (nullable = true)\n",
      " |    |-- element: struct (containsNull = true)\n",
      " |    |    |-- brand: string (nullable = true)\n",
      " |    |    |-- category: string (nullable = true)\n",
      " |    |    |-- description: string (nullable = true)\n",
      " |    |    |-- index: string (nullable = true)\n",
      " |    |    |-- name: string (nullable = true)\n",
      " |    |    |-- product_id: string (nullable = true)\n",
      " |    |    |-- sku: string (nullable = true)\n",
      " |    |    |-- store_id: string (nullable = true)\n",
      " |-- order_date: string (nullable = true)\n",
      " |-- order_id: string (nullable = true)\n",
      " |-- state: string (nullable = true)\n",
      " |-- timestamp: string (nullable = true)\n",
      "\n"
     ]
    }
   ],
   "source": [
    "df.printSchema()"
   ]
  },
  {
   "cell_type": "code",
   "execution_count": 12,
   "id": "dd6c10b2-caaf-4e56-bc6c-ba5d05004142",
   "metadata": {},
   "outputs": [
    {
     "name": "stdout",
     "output_type": "stream",
     "text": [
      "+-----------+--------------------+--------------------+-------------------+--------+---------+--------------------+\n",
      "|customer_id|               email|               items|         order_date|order_id|    state|           timestamp|\n",
      "+-----------+--------------------+--------------------+-------------------+--------+---------+--------------------+\n",
      "|      Alice| debra56@example.com|[{JKL, Аудио, Бес...|2025-08-01 16:33:58|  271372|Completed|2025-08-13T13:44:...|\n",
      "|      Alice|markknight@exampl...|[{MNO, Электроник...|2025-05-27 00:11:02|  271344|Completed|2025-08-13T13:45:...|\n",
      "|      Alice|   lking@example.com|[{YZA, Компьютеры...|2024-12-30 03:09:20|  271686|  Pending|2025-08-13T13:46:...|\n",
      "|      Alice|esheppard@example...|[{PQR, Аудио, Пор...|2025-05-18 22:29:11|  268690|  Pending|2025-08-13T13:46:...|\n",
      "|      Alice|vincentcharles@ex...|[{JKL, Аудио, Бес...|2024-12-26 11:39:19|  270715|Cancelled|2025-08-13T13:46:...|\n",
      "+-----------+--------------------+--------------------+-------------------+--------+---------+--------------------+\n",
      "only showing top 5 rows\n",
      "\n"
     ]
    }
   ],
   "source": [
    "df.show(5)"
   ]
  },
  {
   "cell_type": "code",
   "execution_count": 13,
   "id": "f0458b63-84a9-4aed-a2a9-ff100abf8263",
   "metadata": {},
   "outputs": [
    {
     "name": "stdout",
     "output_type": "stream",
     "text": [
      "+-----------+--------------------+--------------------+-------------------+--------+---------+--------------------+--------------------+\n",
      "|customer_id|               email|               items|         order_date|order_id|    state|           timestamp|                item|\n",
      "+-----------+--------------------+--------------------+-------------------+--------+---------+--------------------+--------------------+\n",
      "|      Alice| debra56@example.com|[{JKL, Аудио, Бес...|2025-08-01 16:33:58|  271372|Completed|2025-08-13T13:44:...|{JKL, Аудио, Бесп...|\n",
      "|      Alice|markknight@exampl...|[{MNO, Электроник...|2025-05-27 00:11:02|  271344|Completed|2025-08-13T13:45:...|{MNO, Электроника...|\n",
      "|      Alice|markknight@exampl...|[{MNO, Электроник...|2025-05-27 00:11:02|  271344|Completed|2025-08-13T13:45:...|{BCD, Хранение да...|\n",
      "|      Alice|markknight@exampl...|[{MNO, Электроник...|2025-05-27 00:11:02|  271344|Completed|2025-08-13T13:45:...|{EFG, Мобильные т...|\n",
      "|      Alice|   lking@example.com|[{YZA, Компьютеры...|2024-12-30 03:09:20|  271686|  Pending|2025-08-13T13:46:...|{YZA, Компьютеры,...|\n",
      "|      Alice|   lking@example.com|[{YZA, Компьютеры...|2024-12-30 03:09:20|  271686|  Pending|2025-08-13T13:46:...|{YZA, Компьютеры,...|\n",
      "|      Alice|   lking@example.com|[{YZA, Компьютеры...|2024-12-30 03:09:20|  271686|  Pending|2025-08-13T13:46:...|{STU, Электроника...|\n",
      "|      Alice|   lking@example.com|[{YZA, Компьютеры...|2024-12-30 03:09:20|  271686|  Pending|2025-08-13T13:46:...|{BCD, Хранение да...|\n",
      "|      Alice|   lking@example.com|[{YZA, Компьютеры...|2024-12-30 03:09:20|  271686|  Pending|2025-08-13T13:46:...|{VWX, Компьютеры,...|\n",
      "|      Alice|esheppard@example...|[{PQR, Аудио, Пор...|2025-05-18 22:29:11|  268690|  Pending|2025-08-13T13:46:...|{PQR, Аудио, Порт...|\n",
      "+-----------+--------------------+--------------------+-------------------+--------+---------+--------------------+--------------------+\n",
      "only showing top 10 rows\n",
      "\n"
     ]
    }
   ],
   "source": [
    "# Разворачиваем items массив\n",
    "df2 = df.withColumn(\"item\", F.explode(F.col(\"items\")))\n",
    "df2.show(10) #, truncate=False"
   ]
  },
  {
   "cell_type": "code",
   "execution_count": 14,
   "id": "2f029171-b661-4d67-b5c9-218bba31aa1d",
   "metadata": {},
   "outputs": [
    {
     "name": "stdout",
     "output_type": "stream",
     "text": [
      "+-----------+--------------------+-------------------+--------+---------+--------------------+-----+------------------+--------------------+--------+--------------------+----------+---------+---------+\n",
      "|customer_id|               email|         order_date|order_id|    state|           timestamp|brand|          category|         description|   index|                name|product_id|      sku| store_id|\n",
      "+-----------+--------------------+-------------------+--------+---------+--------------------+-----+------------------+--------------------+--------+--------------------+----------+---------+---------+\n",
      "|      Alice| debra56@example.com|2025-08-01 16:33:58|  271372|Completed|2025-08-13T13:44:...|  JKL|             Аудио|Беспроводные науш...|products|Беспроводные науш...|     12349|JKL-12349|store_002|\n",
      "|      Alice|markknight@exampl...|2025-05-27 00:11:02|  271344|Completed|2025-08-13T13:45:...|  MNO|       Электроника|Фитнес-трекер с м...|products|   Фитнес-трекер MNO|     12350|MNO-12350|store_003|\n",
      "|      Alice|markknight@exampl...|2025-05-27 00:11:02|  271344|Completed|2025-08-13T13:45:...|  BCD|   Хранение данных|Внешний жесткий д...|products|Внешний жесткий д...|     12355|BCD-12355|store_003|\n",
      "|      Alice|markknight@exampl...|2025-05-27 00:11:02|  271344|Completed|2025-08-13T13:45:...|  EFG|Мобильные телефоны|Смартфон с камеро...|products|Мобильный телефон...|     12356|EFG-12356|store_001|\n",
      "|      Alice|markknight@exampl...|2025-05-27 00:11:02|  271344|Completed|2025-08-13T13:45:...|  MNO|       Электроника|Фитнес-трекер с м...|products|   Фитнес-трекер MNO|     12350|MNO-12350|store_003|\n",
      "|      Alice|markknight@exampl...|2025-05-27 00:11:02|  271344|Completed|2025-08-13T13:45:...|  BCD|   Хранение данных|Внешний жесткий д...|products|Внешний жесткий д...|     12355|BCD-12355|store_003|\n",
      "|      Alice|markknight@exampl...|2025-05-27 00:11:02|  271344|Completed|2025-08-13T13:45:...|  EFG|Мобильные телефоны|Смартфон с камеро...|products|Мобильный телефон...|     12356|EFG-12356|store_001|\n",
      "|      Alice|markknight@exampl...|2025-05-27 00:11:02|  271344|Completed|2025-08-13T13:45:...|  MNO|       Электроника|Фитнес-трекер с м...|products|   Фитнес-трекер MNO|     12350|MNO-12350|store_003|\n",
      "|      Alice|markknight@exampl...|2025-05-27 00:11:02|  271344|Completed|2025-08-13T13:45:...|  BCD|   Хранение данных|Внешний жесткий д...|products|Внешний жесткий д...|     12355|BCD-12355|store_003|\n",
      "|      Alice|markknight@exampl...|2025-05-27 00:11:02|  271344|Completed|2025-08-13T13:45:...|  EFG|Мобильные телефоны|Смартфон с камеро...|products|Мобильный телефон...|     12356|EFG-12356|store_001|\n",
      "+-----------+--------------------+-------------------+--------+---------+--------------------+-----+------------------+--------------------+--------+--------------------+----------+---------+---------+\n",
      "only showing top 10 rows\n",
      "\n"
     ]
    }
   ],
   "source": [
    "# Более лучше разворачиваем\n",
    "exploded_df2 = df2.withColumn(\"item\", F.explode(F.col(\"items\"))).select(\"*\", \"item.*\").drop(\"item\", \"items\")\n",
    "exploded_df2.show(10)"
   ]
  },
  {
   "cell_type": "code",
   "execution_count": 15,
   "id": "118b3c4a-84db-48c3-ba85-526e57cfcbe0",
   "metadata": {},
   "outputs": [
    {
     "name": "stdout",
     "output_type": "stream",
     "text": [
      "+-----------+--------------------+-------------------+--------+---------+--------------------+-----+------------------+--------------------+--------+--------------------+--------------+---------+---------+\n",
      "|customer_id|               email|         order_date|order_id|    state|       timestamp_str|brand|          category|         description|   index|                name|product_id_str|      sku| store_id|\n",
      "+-----------+--------------------+-------------------+--------+---------+--------------------+-----+------------------+--------------------+--------+--------------------+--------------+---------+---------+\n",
      "|      Alice| debra56@example.com|2025-08-01 16:33:58|  271372|Completed|2025-08-13T13:44:...|  JKL|             Аудио|Беспроводные науш...|products|Беспроводные науш...|         12349|JKL-12349|store_002|\n",
      "|      Alice|markknight@exampl...|2025-05-27 00:11:02|  271344|Completed|2025-08-13T13:45:...|  MNO|       Электроника|Фитнес-трекер с м...|products|   Фитнес-трекер MNO|         12350|MNO-12350|store_003|\n",
      "|      Alice|markknight@exampl...|2025-05-27 00:11:02|  271344|Completed|2025-08-13T13:45:...|  BCD|   Хранение данных|Внешний жесткий д...|products|Внешний жесткий д...|         12355|BCD-12355|store_003|\n",
      "|      Alice|markknight@exampl...|2025-05-27 00:11:02|  271344|Completed|2025-08-13T13:45:...|  EFG|Мобильные телефоны|Смартфон с камеро...|products|Мобильный телефон...|         12356|EFG-12356|store_001|\n",
      "|      Alice|markknight@exampl...|2025-05-27 00:11:02|  271344|Completed|2025-08-13T13:45:...|  MNO|       Электроника|Фитнес-трекер с м...|products|   Фитнес-трекер MNO|         12350|MNO-12350|store_003|\n",
      "|      Alice|markknight@exampl...|2025-05-27 00:11:02|  271344|Completed|2025-08-13T13:45:...|  BCD|   Хранение данных|Внешний жесткий д...|products|Внешний жесткий д...|         12355|BCD-12355|store_003|\n",
      "|      Alice|markknight@exampl...|2025-05-27 00:11:02|  271344|Completed|2025-08-13T13:45:...|  EFG|Мобильные телефоны|Смартфон с камеро...|products|Мобильный телефон...|         12356|EFG-12356|store_001|\n",
      "|      Alice|markknight@exampl...|2025-05-27 00:11:02|  271344|Completed|2025-08-13T13:45:...|  MNO|       Электроника|Фитнес-трекер с м...|products|   Фитнес-трекер MNO|         12350|MNO-12350|store_003|\n",
      "|      Alice|markknight@exampl...|2025-05-27 00:11:02|  271344|Completed|2025-08-13T13:45:...|  BCD|   Хранение данных|Внешний жесткий д...|products|Внешний жесткий д...|         12355|BCD-12355|store_003|\n",
      "|      Alice|markknight@exampl...|2025-05-27 00:11:02|  271344|Completed|2025-08-13T13:45:...|  EFG|Мобильные телефоны|Смартфон с камеро...|products|Мобильный телефон...|         12356|EFG-12356|store_001|\n",
      "+-----------+--------------------+-------------------+--------+---------+--------------------+-----+------------------+--------------------+--------+--------------------+--------------+---------+---------+\n",
      "only showing top 10 rows\n",
      "\n"
     ]
    }
   ],
   "source": [
    "# временные ренеймы\n",
    "pre_analytics_df = exploded_df2.withColumnRenamed(\"timestamp\", \"timestamp_str\").withColumnRenamed(\"product_id\", \"product_id_str\")\n",
    "pre_analytics_df.show(10)"
   ]
  },
  {
   "cell_type": "code",
   "execution_count": 16,
   "id": "c59e748f-799b-4858-a41b-17060e1dfa50",
   "metadata": {},
   "outputs": [
    {
     "name": "stdout",
     "output_type": "stream",
     "text": [
      "root\n",
      " |-- customer_id: string (nullable = true)\n",
      " |-- email: string (nullable = true)\n",
      " |-- order_date: string (nullable = true)\n",
      " |-- order_id: string (nullable = true)\n",
      " |-- state: string (nullable = true)\n",
      " |-- timestamp_str: string (nullable = true)\n",
      " |-- brand: string (nullable = true)\n",
      " |-- category: string (nullable = true)\n",
      " |-- description: string (nullable = true)\n",
      " |-- index: string (nullable = true)\n",
      " |-- name: string (nullable = true)\n",
      " |-- product_id_str: string (nullable = true)\n",
      " |-- sku: string (nullable = true)\n",
      " |-- store_id: string (nullable = true)\n",
      "\n"
     ]
    }
   ],
   "source": [
    "pre_analytics_df.printSchema()"
   ]
  },
  {
   "cell_type": "code",
   "execution_count": 17,
   "id": "cf93de0e-3eac-45f5-a768-10f2ad84c8d6",
   "metadata": {},
   "outputs": [
    {
     "name": "stdout",
     "output_type": "stream",
     "text": [
      "+-----------+--------------------+-------------------+--------+---------+-----+------------------+--------------------+--------+--------------------+---------+---------+--------------------+----------+\n",
      "|customer_id|               email|         order_date|order_id|    state|brand|          category|         description|   index|                name|      sku| store_id|           timestamp|product_id|\n",
      "+-----------+--------------------+-------------------+--------+---------+-----+------------------+--------------------+--------+--------------------+---------+---------+--------------------+----------+\n",
      "|      Alice| debra56@example.com|2025-08-01 16:33:58|  271372|Completed|  JKL|             Аудио|Беспроводные науш...|products|Беспроводные науш...|JKL-12349|store_002|2025-08-13 13:44:...|     12349|\n",
      "|      Alice|markknight@exampl...|2025-05-27 00:11:02|  271344|Completed|  MNO|       Электроника|Фитнес-трекер с м...|products|   Фитнес-трекер MNO|MNO-12350|store_003|2025-08-13 13:45:...|     12350|\n",
      "|      Alice|markknight@exampl...|2025-05-27 00:11:02|  271344|Completed|  BCD|   Хранение данных|Внешний жесткий д...|products|Внешний жесткий д...|BCD-12355|store_003|2025-08-13 13:45:...|     12355|\n",
      "|      Alice|markknight@exampl...|2025-05-27 00:11:02|  271344|Completed|  EFG|Мобильные телефоны|Смартфон с камеро...|products|Мобильный телефон...|EFG-12356|store_001|2025-08-13 13:45:...|     12356|\n",
      "|      Alice|markknight@exampl...|2025-05-27 00:11:02|  271344|Completed|  MNO|       Электроника|Фитнес-трекер с м...|products|   Фитнес-трекер MNO|MNO-12350|store_003|2025-08-13 13:45:...|     12350|\n",
      "|      Alice|markknight@exampl...|2025-05-27 00:11:02|  271344|Completed|  BCD|   Хранение данных|Внешний жесткий д...|products|Внешний жесткий д...|BCD-12355|store_003|2025-08-13 13:45:...|     12355|\n",
      "|      Alice|markknight@exampl...|2025-05-27 00:11:02|  271344|Completed|  EFG|Мобильные телефоны|Смартфон с камеро...|products|Мобильный телефон...|EFG-12356|store_001|2025-08-13 13:45:...|     12356|\n",
      "|      Alice|markknight@exampl...|2025-05-27 00:11:02|  271344|Completed|  MNO|       Электроника|Фитнес-трекер с м...|products|   Фитнес-трекер MNO|MNO-12350|store_003|2025-08-13 13:45:...|     12350|\n",
      "|      Alice|markknight@exampl...|2025-05-27 00:11:02|  271344|Completed|  BCD|   Хранение данных|Внешний жесткий д...|products|Внешний жесткий д...|BCD-12355|store_003|2025-08-13 13:45:...|     12355|\n",
      "|      Alice|markknight@exampl...|2025-05-27 00:11:02|  271344|Completed|  EFG|Мобильные телефоны|Смартфон с камеро...|products|Мобильный телефон...|EFG-12356|store_001|2025-08-13 13:45:...|     12356|\n",
      "+-----------+--------------------+-------------------+--------+---------+-----+------------------+--------------------+--------+--------------------+---------+---------+--------------------+----------+\n",
      "only showing top 10 rows\n",
      "\n"
     ]
    }
   ],
   "source": [
    "# Подготовка к аналитике\n",
    "pre_analytics_df2 = pre_analytics_df.withColumn(\"timestamp\", F.to_timestamp(F.col(\"timestamp_str\"))) \\\n",
    "                                    .withColumn(\"product_id\", F.col(\"product_id_str\").cast(IntegerType())) \\\n",
    "                                    .drop(\"timestamp_str\") \\\n",
    "                                    .drop(\"product_id_str\")\n",
    "pre_analytics_df2.show(10)"
   ]
  },
  {
   "cell_type": "code",
   "execution_count": 18,
   "id": "7b03d393-71a8-41bd-ba57-f2cd039b6942",
   "metadata": {},
   "outputs": [
    {
     "name": "stdout",
     "output_type": "stream",
     "text": [
      "root\n",
      " |-- customer_id: string (nullable = true)\n",
      " |-- email: string (nullable = true)\n",
      " |-- order_date: string (nullable = true)\n",
      " |-- order_id: string (nullable = true)\n",
      " |-- state: string (nullable = true)\n",
      " |-- brand: string (nullable = true)\n",
      " |-- category: string (nullable = true)\n",
      " |-- description: string (nullable = true)\n",
      " |-- index: string (nullable = true)\n",
      " |-- name: string (nullable = true)\n",
      " |-- sku: string (nullable = true)\n",
      " |-- store_id: string (nullable = true)\n",
      " |-- timestamp: timestamp (nullable = true)\n",
      " |-- product_id: integer (nullable = true)\n",
      "\n"
     ]
    }
   ],
   "source": [
    "pre_analytics_df2.printSchema()"
   ]
  },
  {
   "cell_type": "code",
   "execution_count": 19,
   "id": "8eb869bb-6db6-45fb-8bee-d3ffe4014774",
   "metadata": {},
   "outputs": [
    {
     "name": "stdout",
     "output_type": "stream",
     "text": [
      "+-----------+---------------+\n",
      "|customer_id|items_purchased|\n",
      "+-----------+---------------+\n",
      "|      Alice|          13222|\n",
      "|      David|          12989|\n",
      "|        Eva|          12811|\n",
      "|    Charlie|          12466|\n",
      "|        Bob|          12449|\n",
      "+-----------+---------------+\n",
      "\n"
     ]
    }
   ],
   "source": [
    "# Топ 5 покупателей по личеству купленных товаров\n",
    "analytics_df = pre_analytics_df.groupBy(\"customer_id\") \\\n",
    "        .agg(F.count(\"*\").alias(\"items_purchased\")) \\\n",
    "        .orderBy(F.col(\"items_purchased\").desc())\n",
    "analytics_df.show(5)"
   ]
  },
  {
   "cell_type": "code",
   "execution_count": 20,
   "id": "76da7247-210c-4e9a-8832-b91b085b50b0",
   "metadata": {},
   "outputs": [],
   "source": [
    "analytics_schema = StructType([\n",
    "    StructField(\"customer_id\", StringType(), nullable=True),\n",
    "    StructField(\"items_purchased\", IntegerType(), nullable=True)])"
   ]
  },
  {
   "cell_type": "code",
   "execution_count": 21,
   "id": "85869570-4da0-476c-aa25-656c28c342ec",
   "metadata": {},
   "outputs": [
    {
     "name": "stdout",
     "output_type": "stream",
     "text": [
      "+-----------+---------------+\n",
      "|customer_id|items_purchased|\n",
      "+-----------+---------------+\n",
      "|      Alice|          13222|\n",
      "|      David|          13005|\n",
      "|        Eva|          12811|\n",
      "|    Charlie|          12482|\n",
      "|        Bob|          12453|\n",
      "+-----------+---------------+\n",
      "\n",
      "root\n",
      " |-- customer_id: string (nullable = true)\n",
      " |-- items_purchased: integer (nullable = true)\n",
      "\n"
     ]
    }
   ],
   "source": [
    "empty_analytics_df = spark.createDataFrame([], schema=analytics_schema)\n",
    "union_df=empty_analytics_df.union(analytics_df)\n",
    "union_df2 = union_df.withColumn(\"items_purchased\", F.col(\"items_purchased\").cast(IntegerType()))\n",
    "union_df2.show(5)\n",
    "union_df2.printSchema()"
   ]
  },
  {
   "cell_type": "code",
   "execution_count": 22,
   "id": "57257269-83af-41fe-a20f-1d4ff130fe24",
   "metadata": {},
   "outputs": [
    {
     "name": "stdout",
     "output_type": "stream",
     "text": [
      "{'$schema': 'http://json-schema.org/draft-07/schema#', 'title': 'AnalisMessageSchema', 'type': 'object', 'properties': {'customer_id': {'type': 'string'}, 'items_purchased': {'type': 'integer'}}, 'required': ['customer_id', 'items_purchased']}\n"
     ]
    }
   ],
   "source": [
    "## schema-registry:8081\n",
    "subject_a = 'analytic-topic-value'\n",
    "confluent_SR_client = con({\"url\": SR_URL})\n",
    "latest_a = confluent_SR_client.get_latest_version(subject_a)\n",
    "schema_file_a = latest_a.schema.schema_str\n",
    "json_value_schema_a_str = schema.JsonSchema(schema_file_a)\n",
    "print(json_value_schema_a_str)"
   ]
  },
  {
   "cell_type": "code",
   "execution_count": 23,
   "id": "3b1863b0-ec6c-486c-bf3f-dd68c4cd8c9f",
   "metadata": {},
   "outputs": [],
   "source": [
    "# Записываем аналитику в Kafka\n",
    "analytics_df.selectExpr(\"to_json(struct(*)) AS value\") \\\n",
    "    .write \\\n",
    "    .format(\"kafka\") \\\n",
    "    .option(\"kafka.bootstrap.servers\", \"kafka111-mirror:9192\") \\\n",
    "    .option(\"topic\", \"analytic-topic\") \\\n",
    "    .option(\"value.serializer\", \"io.confluent.connect.json.JsonSchemaConverter\") \\\n",
    "    .option(\"schema.registry.url\", os.getenv(\"KAFKA_SCHEMA_REGISTRY\", \"localhost:8081\")) \\\n",
    "    .save()"
   ]
  },
  {
   "cell_type": "code",
   "execution_count": 24,
   "id": "0193d035-ca1c-4633-8bbb-bb11c6050bb6",
   "metadata": {},
   "outputs": [
    {
     "name": "stdout",
     "output_type": "stream",
     "text": [
      "+-------+--------------------+-------------------+--------+---------+-----+------------------+--------------------+--------+--------------------+---------+---------+--------------------+--------------+\n",
      "|user_id|               email|         order_date|order_id|    state|brand|          category|         description|   index|                name|      sku| store_id|           timestamp|product_id_tmp|\n",
      "+-------+--------------------+-------------------+--------+---------+-----+------------------+--------------------+--------+--------------------+---------+---------+--------------------+--------------+\n",
      "|  Alice| debra56@example.com|2025-08-01 16:33:58|  271372|Completed|  JKL|             Аудио|Беспроводные науш...|products|Беспроводные науш...|JKL-12349|store_002|2025-08-13 13:44:...|         12349|\n",
      "|  Alice|markknight@exampl...|2025-05-27 00:11:02|  271344|Completed|  MNO|       Электроника|Фитнес-трекер с м...|products|   Фитнес-трекер MNO|MNO-12350|store_003|2025-08-13 13:45:...|         12350|\n",
      "|  Alice|markknight@exampl...|2025-05-27 00:11:02|  271344|Completed|  BCD|   Хранение данных|Внешний жесткий д...|products|Внешний жесткий д...|BCD-12355|store_003|2025-08-13 13:45:...|         12355|\n",
      "|  Alice|markknight@exampl...|2025-05-27 00:11:02|  271344|Completed|  EFG|Мобильные телефоны|Смартфон с камеро...|products|Мобильный телефон...|EFG-12356|store_001|2025-08-13 13:45:...|         12356|\n",
      "|  Alice|markknight@exampl...|2025-05-27 00:11:02|  271344|Completed|  MNO|       Электроника|Фитнес-трекер с м...|products|   Фитнес-трекер MNO|MNO-12350|store_003|2025-08-13 13:45:...|         12350|\n",
      "|  Alice|markknight@exampl...|2025-05-27 00:11:02|  271344|Completed|  BCD|   Хранение данных|Внешний жесткий д...|products|Внешний жесткий д...|BCD-12355|store_003|2025-08-13 13:45:...|         12355|\n",
      "|  Alice|markknight@exampl...|2025-05-27 00:11:02|  271344|Completed|  EFG|Мобильные телефоны|Смартфон с камеро...|products|Мобильный телефон...|EFG-12356|store_001|2025-08-13 13:45:...|         12356|\n",
      "|  Alice|markknight@exampl...|2025-05-27 00:11:02|  271344|Completed|  MNO|       Электроника|Фитнес-трекер с м...|products|   Фитнес-трекер MNO|MNO-12350|store_003|2025-08-13 13:45:...|         12350|\n",
      "|  Alice|markknight@exampl...|2025-05-27 00:11:02|  271344|Completed|  BCD|   Хранение данных|Внешний жесткий д...|products|Внешний жесткий д...|BCD-12355|store_003|2025-08-13 13:45:...|         12355|\n",
      "|  Alice|markknight@exampl...|2025-05-27 00:11:02|  271344|Completed|  EFG|Мобильные телефоны|Смартфон с камеро...|products|Мобильный телефон...|EFG-12356|store_001|2025-08-13 13:45:...|         12356|\n",
      "+-------+--------------------+-------------------+--------+---------+-----+------------------+--------------------+--------+--------------------+---------+---------+--------------------+--------------+\n",
      "only showing top 10 rows\n",
      "\n",
      "root\n",
      " |-- user_id: string (nullable = true)\n",
      " |-- email: string (nullable = true)\n",
      " |-- order_date: string (nullable = true)\n",
      " |-- order_id: string (nullable = true)\n",
      " |-- state: string (nullable = true)\n",
      " |-- brand: string (nullable = true)\n",
      " |-- category: string (nullable = true)\n",
      " |-- description: string (nullable = true)\n",
      " |-- index: string (nullable = true)\n",
      " |-- name: string (nullable = true)\n",
      " |-- sku: string (nullable = true)\n",
      " |-- store_id: string (nullable = true)\n",
      " |-- timestamp: timestamp (nullable = true)\n",
      " |-- product_id_tmp: integer (nullable = true)\n",
      "\n"
     ]
    }
   ],
   "source": [
    "r_df = pre_analytics_df2.withColumnRenamed(\"customer_id\", \"user_id\").withColumnRenamed(\"product_id\", \"product_id_tmp\")\n",
    "r_df.show(10)\n",
    "r_df.printSchema()"
   ]
  },
  {
   "cell_type": "code",
   "execution_count": 25,
   "id": "8eeddabd-c68f-445d-8ee8-1f5b7c01a460",
   "metadata": {},
   "outputs": [
    {
     "name": "stdout",
     "output_type": "stream",
     "text": [
      "+-------+--------------+\n",
      "|user_id|product_id_tmp|\n",
      "+-------+--------------+\n",
      "|Alice  |12349         |\n",
      "|Alice  |12350         |\n",
      "|Alice  |12355         |\n",
      "|Alice  |12356         |\n",
      "|Alice  |12350         |\n",
      "+-------+--------------+\n",
      "only showing top 5 rows\n",
      "\n",
      "root\n",
      " |-- user_id: string (nullable = true)\n",
      " |-- product_id_tmp: integer (nullable = true)\n",
      "\n"
     ]
    }
   ],
   "source": [
    "r_df2 = r_df.select(\"user_id\", \"product_id_tmp\")\n",
    "r_df2.show(5, truncate=False)\n",
    "r_df2.printSchema()"
   ]
  },
  {
   "cell_type": "code",
   "execution_count": 26,
   "id": "50d95263-aec3-4cb8-aea2-ad48a51349cb",
   "metadata": {},
   "outputs": [
    {
     "name": "stdout",
     "output_type": "stream",
     "text": [
      "+-------+--------------+-----------+\n",
      "|user_id|product_id_tmp|product_cnt|\n",
      "+-------+--------------+-----------+\n",
      "|Alice  |12349         |1400       |\n",
      "|Alice  |12356         |1489       |\n",
      "|Alice  |12354         |1459       |\n",
      "|Alice  |12353         |1401       |\n",
      "|Alice  |12355         |1475       |\n",
      "+-------+--------------+-----------+\n",
      "only showing top 5 rows\n",
      "\n"
     ]
    }
   ],
   "source": [
    "r_df3= r_df2.groupBy(\"user_id\", \"product_id_tmp\") \\\n",
    "                .agg(\n",
    "                    F.count(\"*\").alias(\"product_cnt\"))\n",
    "r_df3.show(5,truncate=False)"
   ]
  },
  {
   "cell_type": "code",
   "execution_count": 27,
   "id": "e1cb6a70-6936-425b-a381-bf7e1ab0f932",
   "metadata": {},
   "outputs": [],
   "source": [
    "w = Window.partitionBy(\"user_id\").orderBy(F.desc(\"product_cnt\"), F.asc(\"product_id_tmp\"))"
   ]
  },
  {
   "cell_type": "code",
   "execution_count": 28,
   "id": "ccbe06e0-0503-4401-b9a2-0301ee344fac",
   "metadata": {},
   "outputs": [
    {
     "name": "stdout",
     "output_type": "stream",
     "text": [
      "+-------+--------------+-----------+\n",
      "|user_id|product_id_tmp|product_cnt|\n",
      "+-------+--------------+-----------+\n",
      "|  Alice|         12350|       1531|\n",
      "|  Alice|         12357|       1510|\n",
      "|  Alice|         12351|       1494|\n",
      "|    Bob|         12352|       1576|\n",
      "|    Bob|         12353|       1426|\n",
      "|    Bob|         12357|       1407|\n",
      "|Charlie|         12354|       1549|\n",
      "|Charlie|         12352|       1529|\n",
      "|Charlie|         12353|       1440|\n",
      "|  David|         12355|       1511|\n",
      "|  David|         12357|       1489|\n",
      "|  David|         12350|       1470|\n",
      "|    Eva|         12353|       1527|\n",
      "|    Eva|         12349|       1515|\n",
      "|    Eva|         12350|       1459|\n",
      "+-------+--------------+-----------+\n",
      "\n"
     ]
    }
   ],
   "source": [
    "top3_per_user = r_df3.withColumn(\"rn\", F.row_number().over(w)) \\\n",
    "                      .filter(F.col(\"rn\") <= 3) \\\n",
    "                      .drop(\"rn\") \\\n",
    "                      .orderBy(\"user_id\", F.desc(\"product_cnt\"))\n",
    "top3_per_user.show()"
   ]
  },
  {
   "cell_type": "code",
   "execution_count": 29,
   "id": "9a9ebead-0e73-4c36-a89d-7f5f8b1b048f",
   "metadata": {},
   "outputs": [],
   "source": [
    "rec_schema = StructType([\n",
    "    StructField(\"user_id\", StringType(), nullable=True),\n",
    "    StructField(\"product_id\", IntegerType(), nullable=True)])"
   ]
  },
  {
   "cell_type": "code",
   "execution_count": 30,
   "id": "0d3604d8-e9f4-4ffb-81a8-9ea97b58c2a7",
   "metadata": {},
   "outputs": [
    {
     "name": "stdout",
     "output_type": "stream",
     "text": [
      "+-------+----------+\n",
      "|user_id|product_id|\n",
      "+-------+----------+\n",
      "|Alice  |12350     |\n",
      "|Alice  |12357     |\n",
      "|Alice  |12351     |\n",
      "|Bob    |12352     |\n",
      "|Bob    |12353     |\n",
      "|Bob    |12357     |\n",
      "|Charlie|12354     |\n",
      "|Charlie|12352     |\n",
      "|Charlie|12353     |\n",
      "|David  |12355     |\n",
      "|David  |12357     |\n",
      "|David  |12350     |\n",
      "|Eva    |12353     |\n",
      "|Eva    |12349     |\n",
      "|Eva    |12350     |\n",
      "+-------+----------+\n",
      "\n",
      "root\n",
      " |-- user_id: string (nullable = true)\n",
      " |-- product_id: integer (nullable = true)\n",
      "\n"
     ]
    }
   ],
   "source": [
    "out_df = top3_per_user.withColumnRenamed(\"product_id_tmp\", \"product_id\").select(\"user_id\", \"product_id\")\n",
    "out_df.show(truncate=False)\n",
    "out_df.printSchema()"
   ]
  },
  {
   "cell_type": "code",
   "execution_count": 31,
   "id": "36113411-36a9-4d1c-9024-a3cc9d8883f8",
   "metadata": {},
   "outputs": [],
   "source": [
    "jaas = 'org.apache.kafka.common.security.plain.PlainLoginModule required username=\"admin\" password=\"your-password\";'\n",
    "# Записываем рекомендации в Kafka\n",
    "out_df.selectExpr(\"to_json(struct(*)) AS value\") \\\n",
    "    .write \\\n",
    "    .format(\"kafka\") \\\n",
    "    .option(\"kafka.bootstrap.servers\", \"kafka111:9093\") \\\n",
    "    .option(\"kafka.security.protocol\", \"SASL_SSL\") \\\n",
    "    .option(\"kafka.sasl.mechanism\", \"PLAIN\") \\\n",
    "    .option(\"kafka.sasl.jaas.config\", jaas) \\\n",
    "    .option(\"kafka.ssl.truststore.location\", \"/etc/kafka/secrets/kafka111.truststore.jks\") \\\n",
    "    .option(\"kafka.ssl.truststore.password\", \"your-password\") \\\n",
    "    .option(\"kafka.ssl.truststore.type\", \"JKS\") \\\n",
    "    .option(\"topic\", \"recommendations\") \\\n",
    "    .save()"
   ]
  },
  {
   "cell_type": "code",
   "execution_count": null,
   "id": "9ffa943f-e828-4a42-b3a2-aed68bebca30",
   "metadata": {},
   "outputs": [],
   "source": []
  }
 ],
 "metadata": {
  "kernelspec": {
   "display_name": "Python 3 (ipykernel)",
   "language": "python",
   "name": "python3"
  },
  "language_info": {
   "codemirror_mode": {
    "name": "ipython",
    "version": 3
   },
   "file_extension": ".py",
   "mimetype": "text/x-python",
   "name": "python",
   "nbconvert_exporter": "python",
   "pygments_lexer": "ipython3",
   "version": "3.11.6"
  }
 },
 "nbformat": 4,
 "nbformat_minor": 5
}
